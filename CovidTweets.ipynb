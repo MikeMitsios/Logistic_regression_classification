{
 "cells": [
  {
   "cell_type": "code",
   "execution_count": 18,
   "id": "bfb100fa",
   "metadata": {},
   "outputs": [],
   "source": [
    "import pandas as pd\n",
    "\n",
    "#Load the train and validation sets\n",
    "train_df=pd.read_csv(\"./vaccine_train_set.csv\",index_col=0)\n",
    "val_df=pd.read_csv(\"./vaccine_validation_set.csv\",index_col=0)"
   ]
  },
  {
   "cell_type": "code",
   "execution_count": 19,
   "id": "0e1232b6",
   "metadata": {},
   "outputs": [
    {
     "name": "stdout",
     "output_type": "stream",
     "text": [
      "(15976, 2)\n"
     ]
    },
    {
     "data": {
      "text/plain": [
       "tweet    0\n",
       "label    0\n",
       "dtype: int64"
      ]
     },
     "execution_count": 19,
     "metadata": {},
     "output_type": "execute_result"
    }
   ],
   "source": [
    "#Checks that there aren't any null values\n",
    "train_df.head()\n",
    "print(train_df.shape)\n",
    "train_df.isnull().sum()"
   ]
  },
  {
   "cell_type": "code",
   "execution_count": 20,
   "id": "bb119b56",
   "metadata": {},
   "outputs": [
    {
     "name": "stdout",
     "output_type": "stream",
     "text": [
      "(2282, 2)\n"
     ]
    },
    {
     "data": {
      "text/plain": [
       "tweet    0\n",
       "label    0\n",
       "dtype: int64"
      ]
     },
     "execution_count": 20,
     "metadata": {},
     "output_type": "execute_result"
    }
   ],
   "source": [
    "#Checks that there aren't any null values\n",
    "val_df.head()\n",
    "print(val_df.shape)\n",
    "val_df.isnull().sum()"
   ]
  },
  {
   "cell_type": "code",
   "execution_count": 21,
   "id": "ca204407",
   "metadata": {},
   "outputs": [
    {
     "name": "stdout",
     "output_type": "stream",
     "text": [
      "{\"that'll\", 'and', 'these', 't', 'each', 'or', '.', 'myself', '!', 'she', 'whom', 've', 'while', 'have', '\"', 'those', 'our', 'too', 'do', 'herself', 'here', 'during', 'on', 'such', \"'\", 'both', 'with', 'himself', 'once', 'against', \"should've\", ')', 'between', 'are', 'so', '*', 'being', 'now', 'was', '<', 'd', 'll', 'few', 'did', '?', \"it's\", 'than', 'him', 'had', 'me', 'no', 'how', 'i', 's', 'were', '/', '\\\\', 'I', 'there', 'your', 'as', 'some', 'down', 'his', \"you'll\", 'hers', 'of', 'more', 'other', 'own', 'at', 'by', 'yourself', 'yours', 'am', '^', '$', '-', '%', ':', 'after', 'because', 're', ',', 'can', 'a', 'this', 'about', 'is', 'itself', ';', 'before', 'what', 'my', '@', 'from', 'not', 'them', '~', '_', 'any', 'he', 'yourselves', 'over', 'all', 'up', 'off', 'y', 'be', \"you'd\", 'has', 'that', 'themselves', 'will', 'they', \"she's\", 'then', 'm', 'ours', 'don', 'just', 'who', 'to', 'where', 'in', 'through', 'its', 'it', \"don't\", '}', 'until', 'but', 'most', 'nor', 'their', 'under', 'for', 'we', 'you', \"you're\", 'ma', 'only', '`', 'having', 'very', 'doing', 'an', '#', 'if', 'o', 'the', 'does', 'below', 'which', 'why', '>', \"you've\", '|', '+', '[', 'should', '(', 'out', 'when', 'further', 'ourselves', '&', ']', '{', 'above', '=', 'theirs', 'same', 'been', 'into', 'again', 'her'}\n"
     ]
    },
    {
     "name": "stderr",
     "output_type": "stream",
     "text": [
      "[nltk_data] Downloading package punkt to\n",
      "[nltk_data]     C:\\Users\\mikem\\AppData\\Roaming\\nltk_data...\n",
      "[nltk_data]   Package punkt is already up-to-date!\n",
      "[nltk_data] Downloading package stopwords to\n",
      "[nltk_data]     C:\\Users\\mikem\\AppData\\Roaming\\nltk_data...\n",
      "[nltk_data]   Package stopwords is already up-to-date!\n"
     ]
    }
   ],
   "source": [
    "#######################################################\n",
    "# Data preprocessing: Stopwords\n",
    "#######################################################\n",
    "\n",
    "# Prepare stopword list\n",
    "import nltk\n",
    "from nltk.tokenize import sent_tokenize, word_tokenize\n",
    "from nltk.stem import PorterStemmer\n",
    "import string\n",
    "nltk.download('punkt')\n",
    "#Keep all the negative words from stopwords\n",
    "my_words=['ain', 'aren', \"aren't\", 'couldn', \"couldn't\", 'didn', \"didn't\", 'doesn', \"doesn't\", 'hadn', \"hadn't\", 'hasn', \"hasn't\",\n",
    "          'haven', \"haven't\", 'isn', \"isn't\", 'mightn', \"mightn't\", 'mustn', \"mustn't\", \n",
    "'needn', \"needn't\", 'shan', \"shan't\", 'shouldn', \"shouldn't\", 'wasn', \"wasn't\", 'weren', \"weren't\", 'won', \"won't\", 'wouldn', \"wouldn't\"]\n",
    "#Uncomment the my_words list to get the results without the negative words in tweets\n",
    "#my_words=[]\n",
    "nltk.download('stopwords')\n",
    "from nltk.corpus import stopwords as sw\n",
    "#include the punctuation in stopwords\n",
    "custom_stopwords=sw.words('english')#.remove(x for x in my_words)\n",
    "custom_stopwords=[ x for x in sw.words('english') if x not in my_words ]\n",
    "stopwords = set(custom_stopwords+ list(string.punctuation)+['i','I'])\n",
    "print(stopwords)"
   ]
  },
  {
   "cell_type": "code",
   "execution_count": 22,
   "id": "c60e4563",
   "metadata": {},
   "outputs": [],
   "source": [
    "import re\n",
    "ps = PorterStemmer()\n",
    "#Keep all the words as it is gives as the best results\n",
    "train_df[\"Filtered_words\"]=train_df[\"tweet\"]\n",
    "\n",
    "#Cleaning\n",
    "#The 2 lines below is the code where I remove the links, the stopwords, and the punctuations from train set\n",
    "# train_df[\"Filtered_words\"]=train_df[\"tweet\"].apply(lambda row:re.sub(r'http\\S+', '', row))\n",
    "# train_df[\"Filtered_words\"]=train_df['Filtered_words'].apply(lambda x: ' '.join([ps.stem(word.translate(str.maketrans('', '', string.punctuation)).lower()) for word in word_tokenize(x) if word not in (stopwords)]))\n"
   ]
  },
  {
   "cell_type": "code",
   "execution_count": 23,
   "id": "b4f4d940",
   "metadata": {},
   "outputs": [
    {
     "name": "stdout",
     "output_type": "stream",
     "text": [
      "a new link  mpla mpla mpla !!\n"
     ]
    }
   ],
   "source": [
    "ps = PorterStemmer()\n",
    "#Keep all the words as it is gives as the best results\n",
    "val_df[\"Filtered_words\"]=val_df[\"tweet\"]\n",
    "\n",
    "#Cleaning\n",
    "#The 2 lines below is the code where I remove the links, the stopwords, and the punctuations from valid set\n",
    "# val_df[\"Filtered_words\"]=val_df[\"tweet\"].apply(lambda row:re.sub(r'http\\S+', '', row))\n",
    "# val_df[\"Filtered_words\"]=val_df['Filtered_words'].apply(lambda x: ' '.join([ps.stem(word.translate(str.maketrans('', '', string.punctuation)).lower()) for word in word_tokenize(x) if word not in (stopwords)]))\n",
    "\n",
    "\n",
    "test_str=\"a new link https://www.facebook.com/ mpla mpla mpla !!\"\n",
    "print(re.sub(r'http\\S+', '', test_str))"
   ]
  },
  {
   "cell_type": "code",
   "execution_count": 24,
   "id": "25c90340",
   "metadata": {},
   "outputs": [
    {
     "name": "stdout",
     "output_type": "stream",
     "text": [
      "                                                                                                                                          tweet\n",
      "0  Sip N Shop Come thru right now #Marjais #PopularNobodies #MMR 🙌🙌🙌🙌 @ Marjais SipNShop http://t.co/JfWAH7uzWE                                \n",
      "1  I don't know about you but My family and I will not take the #Covid19 vaccine anytime soon...                                               \n",
      "2  @MSignorile Immunizations should be mandatory. Period. In Oklahoma, they won't let kids go to school without them. It's dangerous otherwise!\n",
      "3  President Obama spoke in favor of vaccination for children. Fox will start telling its viewers to \"choose\" against vaccination in 3,2,1...  \n",
      "4  \"@myfoxla: Arizona monitoring hundreds for measles linked to Disneyland http://t.co/tEoU2zAQat\" It's a Small World After All.               \n",
      "5  Why did I get my whooping cough vaccine the same day I bring my baby home? I can't even lift my 5lb dog with that arm! #imweak              \n",
      "                                                                                                                                 Filtered_words\n",
      "0  Sip N Shop Come thru right now #Marjais #PopularNobodies #MMR 🙌🙌🙌🙌 @ Marjais SipNShop http://t.co/JfWAH7uzWE                                \n",
      "1  I don't know about you but My family and I will not take the #Covid19 vaccine anytime soon...                                               \n",
      "2  @MSignorile Immunizations should be mandatory. Period. In Oklahoma, they won't let kids go to school without them. It's dangerous otherwise!\n",
      "3  President Obama spoke in favor of vaccination for children. Fox will start telling its viewers to \"choose\" against vaccination in 3,2,1...  \n",
      "4  \"@myfoxla: Arizona monitoring hundreds for measles linked to Disneyland http://t.co/tEoU2zAQat\" It's a Small World After All.               \n",
      "5  Why did I get my whooping cough vaccine the same day I bring my baby home? I can't even lift my 5lb dog with that arm! #imweak              \n"
     ]
    },
    {
     "name": "stderr",
     "output_type": "stream",
     "text": [
      "C:\\Users\\mikem\\AppData\\Local\\Temp/ipykernel_24476/3311916215.py:3: FutureWarning: Passing a negative integer is deprecated in version 1.0 and will not be supported in future version. Instead, use None to not limit the column width.\n",
      "  pd.set_option('display.max_colwidth', -1)\n"
     ]
    }
   ],
   "source": [
    "#print to see what the filtered words finally are\n",
    "pd.set_option('display.width', None)\n",
    "pd.set_option('display.max_colwidth', -1)\n",
    "print(train_df.loc[:5,[\"tweet\"]])\n",
    "print(train_df.loc[:5,[\"Filtered_words\"]])"
   ]
  },
  {
   "cell_type": "code",
   "execution_count": 25,
   "id": "349ae4b7",
   "metadata": {},
   "outputs": [
    {
     "data": {
      "text/plain": [
       "TfidfVectorizer(max_df=0.8, min_df=0.0005)"
      ]
     },
     "execution_count": 25,
     "metadata": {},
     "output_type": "execute_result"
    }
   ],
   "source": [
    "######################\n",
    "##Train vectorizer####\n",
    "######################\n",
    "from sklearn.feature_extraction.text import CountVectorizer\n",
    "from sklearn.feature_extraction.text import HashingVectorizer\n",
    "from sklearn.feature_extraction.text import TfidfVectorizer\n",
    "\n",
    "#best vectorizer is TfidVectorizer \n",
    "#vectorizer=CountVectorizer(max_features=15000)\n",
    "#vectorizer=HashingVectorizer(max_features=15000)\n",
    "\n",
    "#Chose the vectorizer mode to proceed\n",
    "#vectorizer=TfidfVectorizer()\n",
    "vectorizer=TfidfVectorizer(min_df=0.0005,max_df=0.8)\n",
    "\n",
    "\n",
    "vectorizer.fit(train_df['Filtered_words'])"
   ]
  },
  {
   "cell_type": "code",
   "execution_count": 26,
   "id": "f75f1884",
   "metadata": {},
   "outputs": [
    {
     "name": "stdout",
     "output_type": "stream",
     "text": [
      "(15976, 3034)\n"
     ]
    }
   ],
   "source": [
    "#Vectorizing training set\n",
    "vectorized_content=vectorizer.transform(train_df['Filtered_words'])\n",
    "print(vectorized_content.shape)"
   ]
  },
  {
   "cell_type": "code",
   "execution_count": 27,
   "id": "286d0a96",
   "metadata": {},
   "outputs": [
    {
     "name": "stdout",
     "output_type": "stream",
     "text": [
      "(2282, 3034)\n"
     ]
    }
   ],
   "source": [
    "#Vectorizing validation set\n",
    "vectorized_content_val=vectorizer.transform(val_df['Filtered_words'])\n",
    "print(vectorized_content_val.shape)"
   ]
  },
  {
   "cell_type": "code",
   "execution_count": 28,
   "id": "8acc9597",
   "metadata": {},
   "outputs": [],
   "source": [
    "from sklearn.linear_model import LogisticRegression\n",
    "from sklearn.model_selection import GridSearchCV\n",
    "\n",
    "\n",
    "params_=[{\"C\": [0.1,1, 10, 100],\"penalty\":['l2','none'],\"solver\":[\"newton-cg\"],\"max_iter\":[100,1000]},\n",
    "        {\"C\": [0.1,1, 10, 100],\"penalty\":['none','l2'],\"solver\":[\"lbfgs\"],\"max_iter\":[100,1000]},\n",
    "        {\"C\": [0.1,1, 10, 100],\"penalty\":['none','l2'],\"solver\":[\"sag\"],\"max_iter\":[100,1000]},\n",
    "        {\"C\": [0.1,1, 10, 100],\"penalty\":['elasticnet', 'l1', 'l2', 'none'],\"solver\":[\"saga\"],\"max_iter\":[100,1000]}\n",
    "]\n",
    "#best combination on LogisticRegression{'C': 1, 'max_iter': 100, 'penalty': 'l2', 'solver': 'newton-cg'}\n",
    "clf = LogisticRegression(C=1,max_iter=100,solver=\"newton-cg\", penalty='l2').fit(vectorized_content, train_df[\"label\"])\n",
    "\n",
    "#a GridSearch to find the best combination\n",
    "# clf = GridSearchCV(LogisticRegression(),cv=5,param_grid=params_,n_jobs=-1)\n",
    "# clf.fit(vectorized_content, train_df[\"label\"])\n",
    "# print(clf.best_params_)  "
   ]
  },
  {
   "cell_type": "code",
   "execution_count": 29,
   "id": "71f98dce",
   "metadata": {},
   "outputs": [
    {
     "name": "stdout",
     "output_type": "stream",
     "text": [
      "Accuracy: 0.7261174408413672\n",
      "F1_score: 0.6735708797339278\n",
      "Precision: 0.7079955881508152\n",
      "Recall: 0.6564215727403321\n"
     ]
    }
   ],
   "source": [
    "from sklearn.metrics import accuracy_score\n",
    "from sklearn.metrics import f1_score\n",
    "from sklearn.metrics import precision_score\n",
    "from sklearn.metrics import recall_score\n",
    "#make my predictions\n",
    "val_df[\"predictions\"]=clf.predict(vectorized_content_val)\n",
    "#print the metrics\n",
    "print(\"Accuracy: \"+ str(accuracy_score(val_df[\"label\"],val_df[\"predictions\"])))\n",
    "print(\"F1_score: \"+str(f1_score(val_df[\"label\"],val_df[\"predictions\"],average='macro')))\n",
    "print(\"Precision: \"+str(precision_score(val_df[\"label\"],val_df[\"predictions\"],average='macro')))\n",
    "print(\"Recall: \"+str(recall_score(val_df[\"label\"],val_df[\"predictions\"],average='macro')))"
   ]
  },
  {
   "cell_type": "code",
   "execution_count": 30,
   "id": "2747cb4c",
   "metadata": {},
   "outputs": [
    {
     "name": "stdout",
     "output_type": "stream",
     "text": [
      "                                                                                                                                                                                                  tweet  \\\n",
      "0  @user They had a massive surge in with covid deaths immediately after the vaccine rollout, way more than they had during the entirety of the \"pandemic\" up to that point. Fuck those jabs, Dr.Death.   \n",
      "1  Required vaccines for school: Parents and guardians of children with school exclusion letters now have an... http://t.co/KVl8Dt86dz                                                                    \n",
      "2  “@KCStar: Two more Johnson County children have measles http://t.co/Rvx07sc” @sethmnookin                                                                                                              \n",
      "3  NV can do better. Which states are the best (and worst) at vaccinating their kids http://t.co/6GaZGgYA9z http://t.co/pTFRJZ2Tmr\"                                                                       \n",
      "4  Nothing like killing ourselves w/ our own fear MT@Alyssa_Milano: Vaccine fears have fueled the resurgence of preventable diseases.                                                                     \n",
      "5  I'm not subscribing to the panic du jour. Now it's measles, remember Ebola?                                                                                                                            \n",
      "6  @801PUNX Fav songs to check out APTBS = Exploding Head &amp; Ego Death, OMD =Of All the Things We've Made, also The Vaccines = Post Break-Up Sex                                                       \n",
      "7  What happend to the other Covid-19 vaccine test candidates after they died ? https://t.co/i5GDouTVFP                                                                                                   \n",
      "8  The zenith of #BS --&gt;&gt; CDC Says Ebola Vaccine Only Works on White People  http://t.co/gmPcGWAYw9 http://t.co/5rlygarO50                                                                          \n",
      "9  @dlockyer This is the second occurrence I read of vaccines harming children in Syria. Intentional or contamination is the question?                                                                    \n",
      "\n",
      "   label  predictions  \n",
      "0  1      1            \n",
      "1  0      2            \n",
      "2  0      0            \n",
      "3  2      2            \n",
      "4  2      2            \n",
      "5  0      0            \n",
      "6  0      0            \n",
      "7  0      0            \n",
      "8  0      0            \n",
      "9  1      1            \n"
     ]
    }
   ],
   "source": [
    "#Examples of my predictions and the true values of the data\n",
    "print(val_df[[\"tweet\",\"label\",\"predictions\"]].head(10))"
   ]
  },
  {
   "cell_type": "code",
   "execution_count": 31,
   "id": "7709f64c",
   "metadata": {},
   "outputs": [
    {
     "data": {
      "image/png": "[encoded data removed]",
      "text/plain": [
       "<Figure size 432x288 with 1 Axes>"
      ]
     },
     "metadata": {
      "needs_background": "light"
     },
     "output_type": "display_data"
    }
   ],
   "source": [
    "from sklearn.model_selection import learning_curve\n",
    "import matplotlib.pyplot as plt\n",
    "import numpy as np\n",
    "\n",
    "#I used the recomended function to plot the learning curves but on the next cell I created my own (in order to include the given calidation set)\n",
    "train_sizes, train_scores, test_scores = learning_curve(estimator=clf, X=vectorized_content, y=train_df['label'],  cv=5, train_sizes=np.linspace(0.1, 1.0, 10),scoring = 'accuracy',n_jobs=-1)\n",
    "\n",
    "#print(train_scores)\n",
    "#\n",
    "# Calculate training and test mean and std\n",
    "#\n",
    "train_mean = np.mean(train_scores, axis=1)\n",
    "test_mean = np.mean(test_scores, axis=1)\n",
    "#\n",
    "# Plot the learning curve\n",
    "#\n",
    "plt.plot(train_sizes, train_mean, color='blue', marker='o', markersize=5, label='Training Accuracy')\n",
    "plt.plot(train_sizes, test_mean, color='green', marker='v', markersize=5, linestyle='--', label='Validation Accuracy')\n",
    "plt.title('Learning Curve')\n",
    "plt.xlabel('Training Data Size')\n",
    "plt.ylabel('Model accuracy')\n",
    "plt.grid()\n",
    "plt.legend(loc='lower right')\n",
    "plt.show()"
   ]
  },
  {
   "cell_type": "code",
   "execution_count": 32,
   "id": "2cf0bb06",
   "metadata": {},
   "outputs": [
    {
     "ename": "AttributeError",
     "evalue": "'numpy.float64' object has no attribute 'append'",
     "output_type": "error",
     "traceback": [
      "\u001b[1;31m---------------------------------------------------------------------------\u001b[0m",
      "\u001b[1;31mAttributeError\u001b[0m                            Traceback (most recent call last)",
      "\u001b[1;32m~\\AppData\\Local\\Temp/ipykernel_24476/1158639165.py\u001b[0m in \u001b[0;36m<module>\u001b[1;34m\u001b[0m\n\u001b[0;32m     38\u001b[0m \u001b[1;31m#Scores that can be used: accuracy_score, f1_score, precision_score, recall_score\u001b[0m\u001b[1;33m\u001b[0m\u001b[1;33m\u001b[0m\u001b[0m\n\u001b[0;32m     39\u001b[0m \u001b[1;31m#Preffered the accuracy\u001b[0m\u001b[1;33m\u001b[0m\u001b[1;33m\u001b[0m\u001b[0m\n\u001b[1;32m---> 40\u001b[1;33m \u001b[0mresponse\u001b[0m \u001b[1;33m=\u001b[0m \u001b[0mdata_size_response\u001b[0m\u001b[1;33m(\u001b[0m\u001b[0mclf\u001b[0m\u001b[1;33m,\u001b[0m\u001b[0mvectorized_content\u001b[0m\u001b[1;33m,\u001b[0m\u001b[0mvectorized_content_val\u001b[0m\u001b[1;33m,\u001b[0m\u001b[0mtrain_df\u001b[0m\u001b[1;33m[\u001b[0m\u001b[1;34m'label'\u001b[0m\u001b[1;33m]\u001b[0m\u001b[1;33m,\u001b[0m\u001b[0mval_df\u001b[0m\u001b[1;33m[\u001b[0m\u001b[1;34m'label'\u001b[0m\u001b[1;33m]\u001b[0m\u001b[1;33m,\u001b[0m\u001b[0maccuracy_score\u001b[0m\u001b[1;33m)\u001b[0m\u001b[1;33m\u001b[0m\u001b[1;33m\u001b[0m\u001b[0m\n\u001b[0m\u001b[0;32m     41\u001b[0m \u001b[0mplot_response\u001b[0m\u001b[1;33m(\u001b[0m\u001b[1;33m*\u001b[0m\u001b[0mresponse\u001b[0m\u001b[1;33m)\u001b[0m\u001b[1;33m\u001b[0m\u001b[1;33m\u001b[0m\u001b[0m\n",
      "\u001b[1;32m~\\AppData\\Local\\Temp/ipykernel_24476/1158639165.py\u001b[0m in \u001b[0;36mdata_size_response\u001b[1;34m(model, trX, valX, trY, valY, score_func, n_subsets)\u001b[0m\n\u001b[0;32m     19\u001b[0m         \u001b[0mtrain_scores\u001b[0m \u001b[1;33m=\u001b[0m \u001b[0mscore_func\u001b[0m\u001b[1;33m(\u001b[0m\u001b[0mtrY\u001b[0m\u001b[1;33m[\u001b[0m\u001b[1;33m:\u001b[0m\u001b[0mm\u001b[0m\u001b[1;33m]\u001b[0m\u001b[1;33m,\u001b[0m\u001b[0mmodel\u001b[0m\u001b[1;33m.\u001b[0m\u001b[0mpredict\u001b[0m\u001b[1;33m(\u001b[0m\u001b[0mtrX\u001b[0m\u001b[1;33m[\u001b[0m\u001b[1;33m:\u001b[0m\u001b[0mm\u001b[0m\u001b[1;33m]\u001b[0m\u001b[1;33m)\u001b[0m\u001b[1;33m)\u001b[0m\u001b[1;33m\u001b[0m\u001b[1;33m\u001b[0m\u001b[0m\n\u001b[0;32m     20\u001b[0m         \u001b[0mtest_scores\u001b[0m \u001b[1;33m=\u001b[0m \u001b[0mscore_func\u001b[0m\u001b[1;33m(\u001b[0m\u001b[0mvalY\u001b[0m\u001b[1;33m,\u001b[0m\u001b[0mmodel\u001b[0m\u001b[1;33m.\u001b[0m\u001b[0mpredict\u001b[0m\u001b[1;33m(\u001b[0m\u001b[0mvalX\u001b[0m\u001b[1;33m)\u001b[0m\u001b[1;33m)\u001b[0m\u001b[1;33m\u001b[0m\u001b[1;33m\u001b[0m\u001b[0m\n\u001b[1;32m---> 21\u001b[1;33m         \u001b[0mtrain_scores\u001b[0m\u001b[1;33m.\u001b[0m\u001b[0mappend\u001b[0m\u001b[1;33m(\u001b[0m\u001b[0mtrain_scores\u001b[0m\u001b[1;33m)\u001b[0m\u001b[1;33m\u001b[0m\u001b[1;33m\u001b[0m\u001b[0m\n\u001b[0m\u001b[0;32m     22\u001b[0m         \u001b[0mtest_scores\u001b[0m\u001b[1;33m.\u001b[0m\u001b[0mappend\u001b[0m\u001b[1;33m(\u001b[0m\u001b[0mtest_scores\u001b[0m\u001b[1;33m)\u001b[0m\u001b[1;33m\u001b[0m\u001b[1;33m\u001b[0m\u001b[0m\n\u001b[0;32m     23\u001b[0m \u001b[1;33m\u001b[0m\u001b[0m\n",
      "\u001b[1;31mAttributeError\u001b[0m: 'numpy.float64' object has no attribute 'append'"
     ]
    }
   ],
   "source": [
    "#A function from the python library mlxtend to print a learning curve using my validation set\n",
    "# from mlxtend.plotting import plot_learning_curves\n",
    "\n",
    "# plot_learning_curves(vectorized_content, train_df['label'], vectorized_content_val, val_df['label'], clf, scoring = \"accuracy\")\n",
    "# plt.show()\n",
    "\n",
    "#my implementation\n",
    "from matplotlib import pyplot as plt\n",
    "from sklearn import metrics\n",
    "import numpy as np\n",
    "\n",
    "#Take n_subsets equally different portions of the train-set\n",
    "def data_size_response(model,trX,valX,trY,valY,score_func,n_subsets=20):\n",
    "\n",
    "    train_scores,test_scores = [],[]\n",
    "    subset_sizes = np.linspace(3,trX.shape[0],n_subsets).astype(int)\n",
    "    for m in subset_sizes:\n",
    "        model.fit(trX[:m],trY[:m])\n",
    "        train_err = score_func(trY[:m],model.predict(trX[:m]))\n",
    "        test_err = score_func(valY,model.predict(valX))\n",
    "        train_scores.append(train_err)\n",
    "        test_scores.append(test_err)\n",
    "\n",
    "    return subset_sizes,train_scores,test_scores\n",
    "\n",
    "#Plot the scores \n",
    "def plot_response(subset_sizes,train_scores,test_scores):\n",
    "\n",
    "    plt.plot(subset_sizes,train_scores,lw=2, color='blue', marker='o', markersize=5,)\n",
    "    plt.plot(subset_sizes,test_scores,lw=2, color='green', marker='v', markersize=5, linestyle='--')\n",
    "    plt.legend(['Training Scores','Validation Scores'])\n",
    "    plt.xlabel('Dataset size')\n",
    "    plt.ylabel('Accuracy_Score')\n",
    "    plt.grid()\n",
    "    plt.title('Model response to dataset size')\n",
    "    plt.show()\n",
    "\n",
    "#Scores that can be used: accuracy_score, f1_score, precision_score, recall_score\n",
    "response = data_size_response(clf,vectorized_content,vectorized_content_val,train_df['label'],val_df['label'],accuracy_score)\n",
    "plot_response(*response)"
   ]
  },
  {
   "cell_type": "code",
   "execution_count": null,
   "id": "59855cfa",
   "metadata": {},
   "outputs": [
    {
     "data": {
      "image/png": "[encoded data removed]",
      "text/plain": [
       "<Figure size 432x288 with 2 Axes>"
      ]
     },
     "metadata": {
      "needs_background": "light"
     },
     "output_type": "display_data"
    }
   ],
   "source": [
    "#The confusion matrix of my predictions\n",
    "from sklearn.metrics import plot_confusion_matrix\n",
    "import matplotlib.pyplot as plt\n",
    "plot_confusion_matrix(clf, vectorized_content_val, val_df['label'],display_labels=['neutral','anti-vex','pro-vex'])\n",
    "plt.show()"
   ]
  },
  {
   "cell_type": "code",
   "execution_count": null,
   "id": "bdb29c14",
   "metadata": {},
   "outputs": [
    {
     "name": "stdout",
     "output_type": "stream",
     "text": [
      "0.7177017241818314\n"
     ]
    }
   ],
   "source": [
    "#cv-score\n",
    "from sklearn.model_selection import cross_val_score\n",
    "\n",
    "scores = cross_val_score(clf, vectorized_content, train_df['label'], cv=5)\n",
    "print(scores.mean())"
   ]
  }
 ],
 "metadata": {
  "kernelspec": {
   "display_name": "Python 3 (ipykernel)",
   "language": "python",
   "name": "python3"
  },
  "language_info": {
   "codemirror_mode": {
    "name": "ipython",
    "version": 3
   },
   "file_extension": ".py",
   "mimetype": "text/x-python",
   "name": "python",
   "nbconvert_exporter": "python",
   "pygments_lexer": "ipython3",
   "version": "3.9.7"
  }
 },
 "nbformat": 4,
 "nbformat_minor": 5
}
